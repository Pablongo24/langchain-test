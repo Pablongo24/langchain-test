{
 "cells": [
  {
   "cell_type": "code",
   "execution_count": 3,
   "metadata": {
    "collapsed": true
   },
   "outputs": [],
   "source": [
    "import json\n",
    "import os"
   ]
  },
  {
   "cell_type": "code",
   "execution_count": 24,
   "outputs": [],
   "source": [
    "def extract_text(json_data):\n",
    "    try:\n",
    "        if isinstance(json_data, str):\n",
    "            json_data = json.loads(json_data)\n",
    "    except json.decoder.JSONDecodeError:\n",
    "        pass\n",
    "    if isinstance(json_data, dict):\n",
    "        for key, value in json_data.items():\n",
    "            if key == \"text\":\n",
    "                yield value\n",
    "            elif isinstance(value, (dict, list)):\n",
    "                yield from extract_text(value)\n",
    "    elif isinstance(json_data, list):\n",
    "        for item in json_data:\n",
    "            yield from extract_text(item)"
   ],
   "metadata": {
    "collapsed": false
   }
  },
  {
   "cell_type": "code",
   "execution_count": 5,
   "outputs": [],
   "source": [
    "def load_json_data(filepath, filename):\n",
    "    with open(os.path.join(filepath, filename), 'r') as f:\n",
    "        return json.load(f)"
   ],
   "metadata": {
    "collapsed": false
   }
  },
  {
   "cell_type": "code",
   "execution_count": 32,
   "outputs": [],
   "source": [
    "PARENT_DIR = os.path.join('..')\n",
    "DATA_DIR = os.path.join(PARENT_DIR, 'data')\n",
    "SLACK_DATA_DIR = os.path.join(DATA_DIR, 'NYC AI Builders Slack export Aug 9 2022 - Jan 16 2023')"
   ],
   "metadata": {
    "collapsed": false
   }
  },
  {
   "cell_type": "code",
   "execution_count": 10,
   "outputs": [],
   "source": [
    "slack_channels = os.listdir(SLACK_DATA_DIR)"
   ],
   "metadata": {
    "collapsed": false
   }
  },
  {
   "cell_type": "code",
   "execution_count": 25,
   "outputs": [],
   "source": [
    "slack_data = []\n",
    "for subdir in slack_channels[:1]:\n",
    "    for file in os.listdir(os.path.join(SLACK_DATA_DIR, subdir)):\n",
    "        slack_data.extend(load_json_data(os.path.join(SLACK_DATA_DIR, subdir), file))"
   ],
   "metadata": {
    "collapsed": false
   }
  },
  {
   "cell_type": "code",
   "execution_count": 28,
   "outputs": [],
   "source": [
    "slack_data_text = extract_text(slack_data)"
   ],
   "metadata": {
    "collapsed": false
   }
  },
  {
   "cell_type": "code",
   "execution_count": 33,
   "outputs": [],
   "source": [
    "# list(slack_data_text)"
   ],
   "metadata": {
    "collapsed": false
   }
  },
  {
   "cell_type": "markdown",
   "source": [
    "# CSV Extract Processing\n",
    "Andy preprocessed the JSON output into a CSV with columns:\n",
    "| user | user_name | text | client_message_id | timestamp | channel |"
   ],
   "metadata": {
    "collapsed": false
   }
  },
  {
   "cell_type": "code",
   "execution_count": 34,
   "outputs": [],
   "source": [
    "import pandas as pd"
   ],
   "metadata": {
    "collapsed": false
   }
  },
  {
   "cell_type": "code",
   "execution_count": 35,
   "outputs": [],
   "source": [
    "CSV_FILENAME = 'slack_logs.csv'\n",
    "df = pd.read_csv(os.path.join(DATA_DIR, CSV_FILENAME))"
   ],
   "metadata": {
    "collapsed": false
   }
  },
  {
   "cell_type": "code",
   "execution_count": 36,
   "outputs": [
    {
     "data": {
      "text/plain": "            user user_name                                               text  \\\n0  Kevin Merlini  kmerlini  <https://twitter.com/levelsio/status/157708679...   \n1           Andy      andy  <https://www.youtube.com/watch?v=_f5GmFngZQE>\\...   \n2           Andy      andy                        its adults playing not kids   \n3  Kevin Merlini  kmerlini  <https://twitter.com/tanyaagoyal/status/157481...   \n4  Kevin Merlini  kmerlini  <https://spolu.notion.site/spolu/Dust-1dcfe01a...   \n\n                      client_message_id     timestamp channel  \n0  bfaca810-131c-455b-b274-cf1dbbc38c8d  1.664981e+09   intel  \n1  2bdbe62c-f440-43ac-bbca-54c636de8e8c  1.664157e+09   intel  \n2  53c453bc-9c40-47f2-801b-c3a729c83e46  1.664157e+09   intel  \n3  9062ac3a-4bb0-440c-a8ca-375cfc6bf176  1.664371e+09   intel  \n4  84895c8d-4516-4bad-ba90-3fb41d994255  1.664371e+09   intel  ",
      "text/html": "<div>\n<style scoped>\n    .dataframe tbody tr th:only-of-type {\n        vertical-align: middle;\n    }\n\n    .dataframe tbody tr th {\n        vertical-align: top;\n    }\n\n    .dataframe thead th {\n        text-align: right;\n    }\n</style>\n<table border=\"1\" class=\"dataframe\">\n  <thead>\n    <tr style=\"text-align: right;\">\n      <th></th>\n      <th>user</th>\n      <th>user_name</th>\n      <th>text</th>\n      <th>client_message_id</th>\n      <th>timestamp</th>\n      <th>channel</th>\n    </tr>\n  </thead>\n  <tbody>\n    <tr>\n      <th>0</th>\n      <td>Kevin Merlini</td>\n      <td>kmerlini</td>\n      <td>&lt;https://twitter.com/levelsio/status/157708679...</td>\n      <td>bfaca810-131c-455b-b274-cf1dbbc38c8d</td>\n      <td>1.664981e+09</td>\n      <td>intel</td>\n    </tr>\n    <tr>\n      <th>1</th>\n      <td>Andy</td>\n      <td>andy</td>\n      <td>&lt;https://www.youtube.com/watch?v=_f5GmFngZQE&gt;\\...</td>\n      <td>2bdbe62c-f440-43ac-bbca-54c636de8e8c</td>\n      <td>1.664157e+09</td>\n      <td>intel</td>\n    </tr>\n    <tr>\n      <th>2</th>\n      <td>Andy</td>\n      <td>andy</td>\n      <td>its adults playing not kids</td>\n      <td>53c453bc-9c40-47f2-801b-c3a729c83e46</td>\n      <td>1.664157e+09</td>\n      <td>intel</td>\n    </tr>\n    <tr>\n      <th>3</th>\n      <td>Kevin Merlini</td>\n      <td>kmerlini</td>\n      <td>&lt;https://twitter.com/tanyaagoyal/status/157481...</td>\n      <td>9062ac3a-4bb0-440c-a8ca-375cfc6bf176</td>\n      <td>1.664371e+09</td>\n      <td>intel</td>\n    </tr>\n    <tr>\n      <th>4</th>\n      <td>Kevin Merlini</td>\n      <td>kmerlini</td>\n      <td>&lt;https://spolu.notion.site/spolu/Dust-1dcfe01a...</td>\n      <td>84895c8d-4516-4bad-ba90-3fb41d994255</td>\n      <td>1.664371e+09</td>\n      <td>intel</td>\n    </tr>\n  </tbody>\n</table>\n</div>"
     },
     "execution_count": 36,
     "metadata": {},
     "output_type": "execute_result"
    }
   ],
   "source": [
    "df.head()"
   ],
   "metadata": {
    "collapsed": false
   }
  },
  {
   "cell_type": "code",
   "execution_count": 41,
   "outputs": [],
   "source": [
    "from typing import Union\n",
    "from pandas import DataFrame"
   ],
   "metadata": {
    "collapsed": false
   }
  },
  {
   "cell_type": "code",
   "execution_count": 40,
   "outputs": [],
   "source": [
    "from datetime import datetime\n",
    "\n",
    "def timestamp_to_utc(timestamp):\n",
    "    return datetime.utcfromtimestamp(timestamp)\n",
    "\n",
    "def utc_to_timestamp(utc_time):\n",
    "    return int(utc_time.timestamp())"
   ],
   "metadata": {
    "collapsed": false
   }
  },
  {
   "cell_type": "code",
   "execution_count": 45,
   "outputs": [],
   "source": [
    "def filter_dataframe(\n",
    "        df: DataFrame,\n",
    "        user: Union[str, list, None]=None,\n",
    "        time_range:Union[tuple[datetime, datetime], None]=None,\n",
    "        channel:Union[str, list ,None]=None\n",
    "):\n",
    "    if user:\n",
    "        if isinstance(user, str):\n",
    "            df = df[df[\"user\"] == user]\n",
    "        elif isinstance(user, list):\n",
    "            df = df[df[\"user\"].isin(user)]\n",
    "\n",
    "    if time_range:\n",
    "        df = df[(df[\"timestamp\"] > time_range[0]) & (df[\"timestamp\"] < time_range[1])]\n",
    "\n",
    "    if channel:\n",
    "        if isinstance(channel, str):\n",
    "            df = df[df[\"channel\"] == channel]\n",
    "        elif isinstance(channel, list):\n",
    "            df = df[df[\"channel\"].isin(channel)]\n",
    "\n",
    "    return df"
   ],
   "metadata": {
    "collapsed": false
   }
  },
  {
   "cell_type": "code",
   "execution_count": 43,
   "outputs": [],
   "source": [
    "import os\n",
    "from langchain import OpenAI, Prompt\n",
    "from langchain.text_splitter import CharacterTextSplitter\n",
    "from langchain.chains.mapreduce import MapReduceChain\n",
    "from dotenv import load_dotenv"
   ],
   "metadata": {
    "collapsed": false
   }
  },
  {
   "cell_type": "code",
   "execution_count": 56,
   "outputs": [],
   "source": [
    "# load_dotenv()"
   ],
   "metadata": {
    "collapsed": false
   }
  },
  {
   "cell_type": "code",
   "execution_count": 76,
   "outputs": [],
   "source": [
    "# langchain summarize taken from:\n",
    "# https://colab.research.google.com/drive/1B2su1QESO_YfdW93UITosAzqVXvdMMz7#scrollTo=HV95yfK2XG17\n",
    "# Found through:\n",
    "# https://twitter.com/hwchase17/status/1587458155021099008\n",
    "\n",
    "def get_summary(input_text):\n",
    "    llm = OpenAI(temperature=0)\n",
    "\n",
    "    prompt_template = \"\"\"Write a concise summary of the following:\n",
    "\n",
    "    {text}\n",
    "\n",
    "    CONCISE SUMMARY:\n",
    "    \"\"\"\n",
    "\n",
    "    prompt = Prompt(template=prompt_template, input_variables=[\"text\"])\n",
    "\n",
    "    text_splitter = CharacterTextSplitter()\n",
    "\n",
    "    mr_chain = MapReduceChain.from_params(llm=llm, prompt=prompt, text_splitter=text_splitter)\n",
    "\n",
    "    return mr_chain.run(input_text)"
   ],
   "metadata": {
    "collapsed": false
   }
  },
  {
   "cell_type": "code",
   "execution_count": 69,
   "outputs": [],
   "source": [
    "def join_text_from_df(df:DataFrame):\n",
    "    df = df[df[\"text\"].notna()]\n",
    "    text = df[\"text\"].tolist()\n",
    "    return '\\n\\n'.join(text)"
   ],
   "metadata": {
    "collapsed": false
   }
  },
  {
   "cell_type": "code",
   "execution_count": 55,
   "outputs": [],
   "source": [
    "# df[\"channel\"].unique()"
   ],
   "metadata": {
    "collapsed": false
   }
  },
  {
   "cell_type": "code",
   "execution_count": 58,
   "outputs": [],
   "source": [
    "prelim_data = filter_dataframe(\n",
    "    df,\n",
    "    time_range=(\n",
    "        utc_to_timestamp(datetime(2023, 1, 8)),\n",
    "        utc_to_timestamp(datetime(2023, 1, 16))\n",
    "    ),\n",
    "    channel=\"chat-gpt\"\n",
    ")"
   ],
   "metadata": {
    "collapsed": false
   }
  },
  {
   "cell_type": "code",
   "execution_count": 68,
   "outputs": [
    {
     "data": {
      "text/plain": "     user user_name                                               text  \\\n654   NaN       NaN  <https://www.theinformation.com/articles/micro...   \n655  Andy      andy  • Bill Gates didn’t like Microsoft’s first inv...   \n656  Andy      andy  <https://www.theinformation.com/articles/the-e...   \n657  Andy      andy  OpenAI recorded $13M in expenses in 2020: <htt...   \n658  Andy      andy  I’m thinking the accounting structures their G...   \n\n                        client_message_id     timestamp   channel  \n654  8a4e3839-61ac-4b1c-817e-b30954450e63  1.673457e+09  chat-gpt  \n655  cdb34b9d-8087-4682-b843-1dfee40ee8dc  1.673458e+09  chat-gpt  \n656  d931d32e-914d-45e0-b8bb-4690e785a90a  1.673458e+09  chat-gpt  \n657  c5163b4f-2d2a-4c20-848a-676b6c0c3380  1.673480e+09  chat-gpt  \n658  3a759487-ed9c-4cfa-97db-a05865bdd90f  1.673480e+09  chat-gpt  ",
      "text/html": "<div>\n<style scoped>\n    .dataframe tbody tr th:only-of-type {\n        vertical-align: middle;\n    }\n\n    .dataframe tbody tr th {\n        vertical-align: top;\n    }\n\n    .dataframe thead th {\n        text-align: right;\n    }\n</style>\n<table border=\"1\" class=\"dataframe\">\n  <thead>\n    <tr style=\"text-align: right;\">\n      <th></th>\n      <th>user</th>\n      <th>user_name</th>\n      <th>text</th>\n      <th>client_message_id</th>\n      <th>timestamp</th>\n      <th>channel</th>\n    </tr>\n  </thead>\n  <tbody>\n    <tr>\n      <th>654</th>\n      <td>NaN</td>\n      <td>NaN</td>\n      <td>&lt;https://www.theinformation.com/articles/micro...</td>\n      <td>8a4e3839-61ac-4b1c-817e-b30954450e63</td>\n      <td>1.673457e+09</td>\n      <td>chat-gpt</td>\n    </tr>\n    <tr>\n      <th>655</th>\n      <td>Andy</td>\n      <td>andy</td>\n      <td>• Bill Gates didn’t like Microsoft’s first inv...</td>\n      <td>cdb34b9d-8087-4682-b843-1dfee40ee8dc</td>\n      <td>1.673458e+09</td>\n      <td>chat-gpt</td>\n    </tr>\n    <tr>\n      <th>656</th>\n      <td>Andy</td>\n      <td>andy</td>\n      <td>&lt;https://www.theinformation.com/articles/the-e...</td>\n      <td>d931d32e-914d-45e0-b8bb-4690e785a90a</td>\n      <td>1.673458e+09</td>\n      <td>chat-gpt</td>\n    </tr>\n    <tr>\n      <th>657</th>\n      <td>Andy</td>\n      <td>andy</td>\n      <td>OpenAI recorded $13M in expenses in 2020: &lt;htt...</td>\n      <td>c5163b4f-2d2a-4c20-848a-676b6c0c3380</td>\n      <td>1.673480e+09</td>\n      <td>chat-gpt</td>\n    </tr>\n    <tr>\n      <th>658</th>\n      <td>Andy</td>\n      <td>andy</td>\n      <td>I’m thinking the accounting structures their G...</td>\n      <td>3a759487-ed9c-4cfa-97db-a05865bdd90f</td>\n      <td>1.673480e+09</td>\n      <td>chat-gpt</td>\n    </tr>\n  </tbody>\n</table>\n</div>"
     },
     "execution_count": 68,
     "metadata": {},
     "output_type": "execute_result"
    }
   ],
   "source": [
    "prelim_data"
   ],
   "metadata": {
    "collapsed": false
   }
  },
  {
   "cell_type": "code",
   "execution_count": 70,
   "outputs": [],
   "source": [
    "text = join_text_from_df(prelim_data)\n",
    "# prelim_data = prelim_data[prelim_data[\"text\"].notna()]"
   ],
   "metadata": {
    "collapsed": false
   }
  },
  {
   "cell_type": "code",
   "execution_count": 77,
   "outputs": [],
   "source": [
    "summary = get_summary(text)"
   ],
   "metadata": {
    "collapsed": false
   }
  },
  {
   "cell_type": "code",
   "execution_count": 78,
   "outputs": [
    {
     "data": {
      "text/plain": "\"\\nMicrosoft has invested $1 billion in OpenAI, with OpenAI committing to using Azure, Microsoft's cloud service. OpenAI is looking for sources that outline experts’ inner monologue and thought processes, and is considering a paid version of ChatGPT. @U0493F8JDFU and @U03TPREG1QQ are discussing the progress of AI, the possibility of adding the ability to summarize conversations to their chatbot, Bob, and a hackathon for tomorrow. They are also discussing OpenAI's chatgpt detector and the early founder breakup of Adept, an OpenAI rival.\""
     },
     "execution_count": 78,
     "metadata": {},
     "output_type": "execute_result"
    }
   ],
   "source": [
    "summary"
   ],
   "metadata": {
    "collapsed": false
   }
  },
  {
   "cell_type": "code",
   "execution_count": 79,
   "outputs": [
    {
     "data": {
      "text/plain": "'<https://www.theinformation.com/articles/microsoft-openai-inside-techs-hottest-romance>\\n\\n• Bill Gates didn’t like Microsoft’s first investment into OpenAI, Nadella went with it anyway\\n• OpenAI thinks LLM’s are “at least twice as expensive as it would need to be to broadly make money”\\n\\n<https://www.theinformation.com/articles/the-eternal-sunshine-of-sam-altman?rc=0kznf0>\\n\\nDiane von Fürstenberg’s glowing recommendation of Sam Altman:\\n\\n&gt; “I met Sam a few years ago and he’s one of my most recent, very, very intimate friends,” purrs DVF, her impossibly glamorous Continental accent still _working it_ after all these years. “Meeting Sam is a little bit like meeting Ein-_shtein_. He is a genius, you know? He is, how can I say, he is the connector, the major connector between the future and the past. I think that he is understanding, better than anyone—I mean, better than anyone _I_ know, for sure—where are the humans going? Where is civilization going? And, maybe, also, creating a new civilization!”\\n\\nOpenAI recorded $13M in expenses in 2020: <https://twitter.com/frantzfries/status/1613268894566719502>\\n\\nGPT-3 takes $~5M to train with a single run if you do things carefully; I don’t think their compute costs are in there?\\n\\nI’m thinking the accounting structures their GPU spend with Microsoft / Azure as an investment, not as an expense\\n\\n<https://twitter.com/hwchase17/status/1613190606591000576?s=46&amp;t=tHKJFwIrr2fZMpcEwmG6VQ|https://twitter.com/hwchase17/status/1613190606591000576?s=46&amp;t=tHKJFwIrr2fZMpcEwmG6VQ>\\n\\nthe test questions are gated by a UI so unlikely to have scraped as training data\\n\\n<https://twitter.com/_akhaliq/status/1613350889602908163>\\n\\nVinod Khosla (big VC) invested in OpenAI early, who has seen GPT-4 as part of an investor update, says GPT-4 is much better at encoding expertise.\\n\\n<https://twitter.com/Scobleizer/status/1613204370983915520>\\n\\nOpenAI considering “professional” paid version of ChatGPT; waitlist here: <https://twitter.com/gdb/status/1612986134048698369>\\n\\nthis is a really janky way to survey your customers\\n\\nAgreed, but they\\'ll get thousands of responses, regardless\\n\\nthis guy is actually getting other students in trouble, kinda messed up: <https://twitter.com/CBSEveningNews/status/1612966244600143873>\\n\\n<https://news.microsoft.com/source/features/innovation/openai-azure-supercomputer/|https://news.microsoft.com/source/features/innovation/openai-azure-supercomputer/>\\n\\nThat is a LARGE machine... Any guesses what they\\'re using now? Same machine for GPT-4 training?\\n\\nThey’ve upgraded since then! Major cloud providers like Azure and Lambdalabs have modern setups\\n\\n<https://www.theinformation.com/articles/six-openai-rivals-google-and-microsoft-are-watching?utm_medium=email&amp;utm_campaign=article_email&amp;utm_content=article-9512&amp;utm_source=sg&amp;rc=0kznf0|https://www.theinformation.com/articles/six-openai-rivals-google-and-microsoft-are-watch[…]le_email&amp;utm_content=article-9512&amp;utm_source=sg&amp;rc=0kznf0>\\n\\nA100\\'s/H100\\'s with very good interconnect, probably :slightly_smiling_face:\\n\\nFrom OpenAI’s discord\\n\\n<https://twitter.com/lizrhoffman/status/1612637835374329858>\\n\\nMicrosoft will have a 49% stake in OpenAI\\n\\n<https://twitter.com/DaveMonlander/status/1612802240582135809>\\n\\n<https://twitter.com/cmorez1/status/1613138634638778372/photo/1>\\n\\nWhy start from scratch though? Why not use these:\\nUniversity textbooks\\nTA Problem sets (where the TA explains 1-5 problems in detail)\\nMOOCs (audio plus optical character recognition)\\nHighest quality leet code questions and answers (or at least add more comments to them)\\nCredentialed exams (e.g. CPA, medical board)\\n\\nHave they already maxed out on those?\\n\\nThe easiest way to take this job would be to just plagiarize from those sources but maybe OpenAI wants that\\n\\nim guessing OpenAI already bought those\\n\\n But those are massive\\n\\nthey’ve bought shutterstock and twitter data on the DL\\n\\nyes, but they don’t necessarily outline experts’ inner monologue / thought processes?\\n\\nYea but I’m saying the contract worker should just narrate existing problems\\n\\nData cleanup. Not so much problem/answer generation\\n\\n<https://resources.finalsite.net/images/v1571761721/district196org/oq4ibrx6y2kovncbmzlr/noahsheets.pdf|https://resources.finalsite.net/images/v1571761721/district196org/oq4ibrx6y2kovncbmzlr/noahsheets.pdf> so much high school geometry is on these few pages\\n\\nI wonder how far you can go by narrating these facts in plain language\\n\\nLike imagine just getting well annotated crib notes for different domains\\n\\nWhat I’m saying is an average human high schooler (not a great mathematician) might be able to see these theorems and apply them to a problem. Can an LLM do that? Kind of one shot generalization if I’m using that term correctly\\n\\nIt may not require copious amounts of problems\\n\\ni’d try it out on chatgpt? you’d have to pick a domain/theorems that didn’t exist in 2021 tho\\n\\nBut the \"average high schooler with a text book\" can still only solve a much smaller subset of domain problems compared to an expert. \\n\\nWhy are you assuming they\\'re starting from scratch?\\n\\nI don\\'t know how high expert means then\\n\\nmaybe my bar is pretty low\\n\\nI think the value from data they are getting from RLHF is much higher than what they would be getting from unsupervised learning. Galactica ingested a lot of textbooks I believe. I\\'m sure GPT is also being fed things like that. But they saw pretty large improvement going in the direction of InstructGPT from comparatively tiny data (on the order of 10s to low 100s of thousands of human evaluations). Also, if you have so much money you\\'d better use it. Meta had like 10k (unskilled) contract workers doing moderation, evaluation, ect.\\n\\nI assume the bar is high given \"we are looking for ppl in top decile of their respective area of expertise\". Even if they accepted high schoolers, it would likely be math Olympiad level, not any average one.\\n\\nWas thinking about trying to incorporate RLHF into our product, as my friend was really interested in it. Was curious on your opinion on how this could work. Would you need a global model that could be personalized to each users labels, while at the same time optimizing for global reward?\\n\\n<https://tryanote.com/|https://tryanote.com/>\\n\\nthe benefit of ChatGPT being a product and OpenAI not publishing is that they can really throw the kitchen sink at it — supervised finetuning, RLHF, community feedback, contractor feedback\\n\\ndoesn’t matter if one technique is better than another, they probably all help out\\n\\nnoam shazeer says <http://character.ai|character.ai> spent $2M on the model on their site\\n\\n<@U04BM5WMT27> <@U03SKH9TR71> would be interesting to benchmark the same test questions, but with PAL\\n\\n(delegating to python interpreter for the math bits)\\n\\nAdept targeting $1B valuation, Anthropic going for $5B\\n\\n<https://www.theinformation.com/articles/general-catalyst-spark-in-talks-to-back-openai-rival>\\n\\n<https://www.reddit.com/r/IAmA/comments/109eze3/im_bill_gates_and_im_back_for_my_11th_ama_ask_me/>\\n\\nBill Gates on AI and ChatGPT; funny thing is he disapproved of Microsoft’s initial investment in OpenAI\\n\\nmy chatgpt is better\\n\\n&gt;<@U03TPREG1QQ>: /bob factorize x^2 + 5x + 6\\n Bob: The answer is (x + 3) (x + 2).\\n\\n&gt;<@U03TPREG1QQ>: /bob what if I multiply all the coefficients by 2?\\n Bob: If you multiply all the coefficients by 2, the equation would become 2x^2 + 10x + 12, which can be factored as (2x + 6) (x + 2).\\n\\ntext gen works too: /bob write me an essay about barack obama’s rise to power\\n\\n&gt;<@U03TPREG1QQ>: /bob write me an essay about barack obama’s rise to power\\n Bob: Obama\\'s rise to power was a remarkable journey that began with his election to the Illinois State Senate in 1996. From there, he went on to become the first African-American President of the United States in 2008. Obama\\'s rise to power was marked by his ability to inspire and motivate people, his commitment to progressive values, and his willingness to work with both sides of the aisle to get things done.\\n\\nObama\\'s rise to power began with his election to the Illinois State Senate in 1996. He was the first African-American to be elected to the state legislature in Illinois, and his victory was seen as a sign of hope for many. Obama was able to use his position to advocate for progressive causes, such as healthcare reform and education reform. He was also able to build relationships with both Democrats and Republicans, which helped him to pass legislation and move his agenda forward.\\n\\nIn 2004, Obama was elected to the United States Senate, becoming the fifth African-American to serve in the Senate. During his time in the Senate, Obama was able to build a reputation as a leader who was willing to work with both sides of the aisle to get things done. He was also able to\\n\\nWhy? Business model? Revenue potential?\\n\\n<https://www.theinformation.com/articles/bill-gates-mellows-a-bit-at-microsoft?rc=0kznf0>\\n\\n&gt;  He stops short of making key corporate decisions about product development and investments that are the purview of its operational leaders. For instance, Gates was involved in Microsoft’s discussions earlier this year about a possible partnership with OpenAI, an artificial intelligence startup co-founded by Tesla CEO Elon Musk, according to two people familiar with the matter. In the discussions, Gates “was very engaged” in scrutinizing OpenAI’s technology. He expressed some skepticism about the startup, which focuses in part on “natural language understanding,” the ability for computers to grasp meaning and context in human speech patterns.\\n&gt; Despite his skepticism, Microsoft in July <https://openai.com/blog/microsoft/|announced a partnership> with OpenAI, under which it made a $1 billion investment in the startup, while OpenAI committed to using Azure, Microsoft’s cloud service. \\n&gt; Gates has expressed his doubts about natural language understanding in other settings, telling attendees at a private event in the Bay Area earlier this year that there had been little meaningful progress in the field over the past half-decade, according to a person who was present at the event. One person familiar with his perspective on OpenAI said Gates admired its technology, but had questions about its business.\\n\\nthis was from 2019, so Gates had an accurate assessment\\n\\nin some sense things only changed in 2020 w/ GPT-3 and scaling laws, which were a large breakthrough\\n\\nHonestly that’s super cool\\n\\nHow can I try it\\n\\n&gt;<@U03TPREG1QQ>: /bob give me: partial fraction decomposition 1/(x^2 + 4x + 3)\\n Bob: The partial fraction decomposition of 1/(x^2 + 4x + 3) is 1/(2 (x + 1)) - 1/(2 (x + 3)).\\n\\nit’s the /bob command on this slack!\\n\\njust a warning that this slack group is mapped to my development branch, so goes down sometimes\\n\\nYeah much easier to be skeptical in 2019 if you weren\\'t deeply involved in the field. \\n\\nThere were already rumblings of what was to come though. Transformers came out in 2017, BERT a year later. Commercially there wasn\\'t progress but technology-wise you could see it was trending up.\\n\\n<@U0493F8JDFU> and I are going to add the ability to summarize conversations tomorrow; any other suggestions?\\n\\nAlso yeah Chinese people love chatbots, a surge of traffic went to <http://character.ai|character.ai> too before the govt shut it off: <https://twitter.com/aibreakfast/status/1614454940981940225?s=46&amp;t=QGNs6zYCaCPzWspd5eDVgg|https://twitter.com/aibreakfast/status/1614454940981940225?s=46&amp;t=QGNs6zYCaCPzWspd5eDVgg>\\n\\n\\nI’m very impressed with China and AI actually, they’re sanctioned like crazy and isolated from the rest of the worlds supply chain, OpenAI banned their products from being used in China, but they’re only 1-2 years behind\\n\\nTheir AI researchers told me they can’t even evaluate against GPT-3 because it’s banned in China :joy: \\n\\nUS down at 25?!? Is that normalized by population?\\n\\nI think this would be really great as a plug in to email \\n\\n<@U03TPREG1QQ> \\n\\nYeah this would, I’m surprised superhuman hasn’t come out with a plug-in \\n\\nImagine it would autogenerate a reply for you, that way you can just edit it\\n\\nI would pay for that\\n\\nThe US has actually been behind on a few tech trends, some justified — we still use credit cards for example and not facial recognition \\n\\nIf you got a long email, it gives you a TLDR\\n\\nBasically my suggestion is that the same technology you built but plugged into email would be massive\\n\\nThere\\'s an Israeli company doing this. I just subscribed like a week ago. The summaries are really good.\\n\\nHaha the Israelis are always smart :)\\n\\nI’m actually looking into email plugins for Anote now as a connector source\\n\\nFor labeling data\\n\\nAI21 labs\\n\\nDo you guys have tomorrow off work? Would be down to get together for dinner!\\n\\nWe’re doing a hackathon if you want to join :grinning: \\n\\n<@U0493F8JDFU> <@U03TPRJ72BA> and I are already in \\n\\n&gt;<@U03TPREG1QQ>: /bob invite folks to join my hackathon at 776 6th ave (2nd floor), let people know 3 people have already committed. We are going to be using augmenting my chatbot Bob with retrieval capabilities and long term memory. End with a clear call to action but don’t make it too corny\\n Bob: Hey everyone! I\\'m hosting a hackathon at 776 6th Ave, second floor, and I\\'d love for you to join us. Three people have already committed, and we\\'ll be using the latest technology to augment my chatbot Bob with retrieval capabilities and long term memory. Come join us and be part of something amazing! Let\\'s make something great together.\\n\\nYa what time tomorrow? I’m down!\\n\\n1 PM, 776 6th ave, 2nd floor conference room! I’ll be there \\n\\nyeah true AI has been on a roll since 2014\\n\\nopenai released their own chatgpt detector: <https://huggingface.co/spaces/openai/openai-detector>\\n\\nsup\\n\\nOops fat finger sorry\\n\\nearly founder breakup <https://www.theinformation.com/briefings/two-co-founders-of-adept-an-openai-rival-suddenly-left-to-start-another-company>'"
     },
     "execution_count": 79,
     "metadata": {},
     "output_type": "execute_result"
    }
   ],
   "source": [
    "text"
   ],
   "metadata": {
    "collapsed": false
   }
  },
  {
   "cell_type": "code",
   "execution_count": null,
   "outputs": [],
   "source": [],
   "metadata": {
    "collapsed": false
   }
  }
 ],
 "metadata": {
  "kernelspec": {
   "display_name": "Python 3",
   "language": "python",
   "name": "python3"
  },
  "language_info": {
   "codemirror_mode": {
    "name": "ipython",
    "version": 2
   },
   "file_extension": ".py",
   "mimetype": "text/x-python",
   "name": "python",
   "nbconvert_exporter": "python",
   "pygments_lexer": "ipython2",
   "version": "2.7.6"
  }
 },
 "nbformat": 4,
 "nbformat_minor": 0
}
